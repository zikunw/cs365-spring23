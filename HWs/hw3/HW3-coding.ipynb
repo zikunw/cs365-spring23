{
 "cells": [
  {
   "cell_type": "markdown",
   "metadata": {},
   "source": [
    "# Programming Assignment: Email Spam Naive Bayes\n",
    "\n",
    "## Overview/Task\n",
    "\n",
    "The goal of this programming assignment is to build a naive bayes classifier from scratch that can determine whether email text should be labled spam or not spam based on its contents\n",
    "\n",
    "## Review\n",
    "\n",
    "Remeber that a naive bayes classifier realizes the following probability:\n",
    "\n",
    "$$P(Y|X_1,X_2,...,X_n) \\propto P(Y)*P(Y|X_1)*P(Y|X_2)*...*P(Y|X_n)$$\n",
    "\n",
    "Where $Y$ is a binary class {0,1}\n",
    "\n",
    "Where $X_i$ is a feature of the input\n",
    "\n",
    "The classifier will decide what class each input belongs to based on highest probability from the equation above\n",
    "\n",
    "## Reminders\n",
    "\n",
    "Please remember that the classifier must be written from scratch; do NOT use any libraries that implement the classifier for you, such as but not limited to sklearn.\n",
    "\n",
    "You CAN, however, use SKlearn to split up the dataset between testing and training.\n",
    "\n",
    "Feel free to look up any tasks you are not familiar with, e.g. the function call to read a csv\n",
    "\n",
    "## Task list/Recommended Order\n",
    "\n",
    "In order to provide some guidance, I am giving the following order/checklist to solve this task:\n",
    "<ol>\n",
    "  <li>Compute the \"prior\": P(Y) for Y = 0 and Y = 1</li>\n",
    "  <li>Compute the \"likelihood\": $P(Y|X_n)$</li>\n",
    "  <li>Write code that uses the two items above to make a decision on whether or not an email is spam or ham (aka not spam)</li>\n",
    "  <li>Write code to evaluate your model. Test model on training data to debug </li>\n",
    "  <li>Test model on testing data to debug </li>\n",
    "</ol>"
   ]
  },
  {
   "cell_type": "code",
   "execution_count": null,
   "metadata": {},
   "outputs": [],
   "source": [
    "#import cell\n",
    "import numpy as np\n",
    "import pandas as pd\n",
    "import random\n",
    "import csv"
   ]
  },
  {
   "cell_type": "markdown",
   "metadata": {},
   "source": [
    "## Function template"
   ]
  },
  {
   "cell_type": "code",
   "execution_count": null,
   "metadata": {},
   "outputs": [],
   "source": [
    "\n",
    "def prior(df):\n",
    "    ham_prior = 0\n",
    "    spam_prior =  0\n",
    "    '''YOUR CODE HERE'''\n",
    "\n",
    "\n",
    "    '''END'''\n",
    "    return ham_prior, spam_prior\n",
    "\n",
    "def likelihood(df):\n",
    "    ham_like_dict = {}\n",
    "    spam_like_dict = {}\n",
    "    '''YOUR CODE HERE'''\n",
    "\n",
    "    '''END'''\n",
    "\n",
    "    return ham_like_dict, spam_like_dict\n",
    "\n",
    "def predict(ham_prior, spam_prior, ham_like_dict, spam_like_dict, text):\n",
    "    '''\n",
    "    prediction function that uses prior and likelihood structure to compute proportional posterior for a single line of text\n",
    "    '''\n",
    "    #ham_spam_decision = 1 if classified as spam, 0 if classified as normal/ham\n",
    "    ham_spam_decision = None\n",
    "\n",
    "    '''YOUR CODE HERE'''\n",
    "    #ham_posterior = posterior probability that the email is normal/ham\n",
    "    ham_posterior = None\n",
    "\n",
    "    #spam_posterior = posterior probability that the email is spam\n",
    "    spam_posterior = None\n",
    "\n",
    "    '''END'''\n",
    "    return ham_spam_decision\n",
    "\n",
    "\n",
    "def metrics(ham_prior, spam_prior, ham_dict, spam_dict, df):\n",
    "    '''\n",
    "    Calls \"predict\" function and report accuracy, precision, and recall of your prediction\n",
    "    '''\n",
    "    \n",
    "    '''YOUR CODE HERE'''\n",
    "\n",
    "\n",
    "    '''END'''\n",
    "    return acc, precision, recall"
   ]
  },
  {
   "cell_type": "markdown",
   "metadata": {},
   "source": [
    "## Generate answers with your functions"
   ]
  },
  {
   "cell_type": "code",
   "execution_count": null,
   "metadata": {},
   "outputs": [],
   "source": [
    "#loading in the training data\n",
    "train_df = pd.read_csv(\"./TRAIN_balanced_ham_spam.csv\")\n",
    "test_df = pd.read_csv(\"./TEST_balanced_ham_spam.csv\")\n",
    "df = train_df\n",
    "df.info()"
   ]
  },
  {
   "cell_type": "code",
   "execution_count": null,
   "metadata": {},
   "outputs": [],
   "source": [
    "#compute the prior\n",
    "\n",
    "ham_prior, spam_prior = prior(df)\n",
    "\n",
    "print(ham_prior, spam_prior)"
   ]
  },
  {
   "cell_type": "code",
   "execution_count": null,
   "metadata": {},
   "outputs": [],
   "source": [
    "# compute likelihood\n",
    "\n",
    "ham_like_dict, spam_like_dict = likelihood(df)"
   ]
  },
  {
   "cell_type": "code",
   "execution_count": null,
   "metadata": {},
   "outputs": [],
   "source": [
    "# Test your predict function with some example TEXT\n",
    "\n",
    "some_text_example = \"write your test case here\"\n",
    "print(predict(ham_prior, spam_prior, ham_like_dict, spam_like_dict, some_text_example))"
   ]
  },
  {
   "cell_type": "code",
   "execution_count": null,
   "metadata": {},
   "outputs": [],
   "source": [
    "# Predict on test_df and compute metrics \n",
    "    \n",
    "df = test_df\n",
    "acc, precision, recall = metrics(ham_prior, spam_prior, ham_dict, spam_dict, df)\n",
    "print(acc, precision, recall)"
   ]
  },
  {
   "cell_type": "code",
   "execution_count": null,
   "metadata": {},
   "outputs": [],
   "source": []
  }
 ],
 "metadata": {
  "kernelspec": {
   "display_name": "Python 3",
   "language": "python",
   "name": "python3"
  },
  "language_info": {
   "codemirror_mode": {
    "name": "ipython",
    "version": 3
   },
   "file_extension": ".py",
   "mimetype": "text/x-python",
   "name": "python",
   "nbconvert_exporter": "python",
   "pygments_lexer": "ipython3",
   "version": "3.8.5"
  }
 },
 "nbformat": 4,
 "nbformat_minor": 4
}
